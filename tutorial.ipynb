{
 "cells": [
  {
   "cell_type": "markdown",
   "metadata": {},
   "source": [
    "# Intrinsic and Extrinsic Parameters\n",
    "\n",
    "## The Extrinsic Matrix\n",
    "[Link](https://ksimek.github.io/2012/08/22/extrinsic/)\n",
    "\n",
    "Interpretation:\n",
    "* The extrinsic matrix describes how to transform points in world coordinates to camera coordinates.\n",
    "* The vector t can be interpreted as the position of the world origin in camera coordinates.\n",
    "* The matrix R represents the directions of the world-axes in camera coordinates.\n",
    "\n",
    "\n",
    "Coordinate system:\n",
    "* The x-axis is pointing to the right.\n",
    "* The y-axis is poiting down.\n",
    "* The z-axis is pointing forward.\n",
    "* Follow right-hand rule for direction of rotation."
   ]
  },
  {
   "cell_type": "markdown",
   "metadata": {},
   "source": [
    "### Transformation - Translation only"
   ]
  },
  {
   "cell_type": "code",
   "execution_count": null,
   "metadata": {},
   "outputs": [],
   "source": [
    "import numpy as np\n",
    "\n",
    "PW_world_origin = [0, 0, 0]     # This is the coordinate of the origin of the world in the world coordinate system\n",
    "PW_camera_origin = [100, 0, 0]  # This is the coordinate of the origin of the camera in the world coordinate system\n",
    "\n",
    "t = np.array(PW_world_origin) - np.array(PW_camera_origin)\n",
    "print(f'Translation vector: {t}')\n",
    "\n",
    "R = np.eye(3)                   # Assume world and camera coordinate systems are following the same direction, hence the identity matrix\n",
    "print(f'Rotation matrix: {R}')\n",
    "\n",
    "PC_world_origin = PW_world_origin@R + t\n",
    "print(f'Coordinate of world origin in WCS to CCS: {PC_world_origin}')\n",
    "\n",
    "PW_1 = [0, 50, 0]\n",
    "PC_1 = PW_1@R + t\n",
    "print(f'Coordinate of point {PW_1} in WCS to CCS is: {PC_1}')"
   ]
  },
  {
   "cell_type": "markdown",
   "metadata": {},
   "source": [
    "### Transformation - Rotation and translation"
   ]
  },
  {
   "cell_type": "code",
   "execution_count": 7,
   "metadata": {},
   "outputs": [],
   "source": [
    "def compute_translation_vector(p1, p2):\n",
    "    t = np.array(p1) - np.array(p2)\n",
    "\n",
    "    return t"
   ]
  },
  {
   "cell_type": "code",
   "execution_count": 8,
   "metadata": {},
   "outputs": [],
   "source": [
    "def compute_rotation_matrix(thetas):\n",
    "    theta_x = np.deg2rad(thetas[0])\n",
    "    theta_y = np.deg2rad(thetas[1])\n",
    "    theta_z = np.deg2rad(thetas[2])\n",
    "\n",
    "    # Rotation along x-axis\n",
    "    R_x = np.array([[1, 0, 0],\n",
    "                    [0, np.cos(theta_x), -np.sin(theta_x)],\n",
    "                    [0, np.sin(theta_x), np.cos(theta_x)]])\n",
    "\n",
    "    # Rotation along y-axis\n",
    "    R_y = np.array([[np.cos(theta_y), 0, np.sin(theta_y)],\n",
    "                    [0, 1, 0],\n",
    "                    [-np.sin(theta_y), 0, np.cos(theta_y)]])\n",
    "\n",
    "    # Rotation along z-axis\n",
    "    R_z = np.array([[np.cos(theta_z), -np.sin(theta_z), 0],\n",
    "                    [np.sin(theta_z), np.cos(theta_z), 0],\n",
    "                    [0, 0, 1]])\n",
    "    \n",
    "    # Combined rotation matrix for camera\n",
    "    R_cam = R_z @ R_y @ R_x\n",
    "\n",
    "    return R_cam"
   ]
  },
  {
   "cell_type": "code",
   "execution_count": null,
   "metadata": {},
   "outputs": [],
   "source": [
    "import numpy as np\n",
    "\n",
    "PW_world_origin = [0, 0, 0]     # This is the coordinate of the origin of the world in the world coordinate system\n",
    "PW_camera_origin = [0, 0, 0]    # This is the coordinate of the origin of the camera in the world coordinate system\n",
    "\n",
    "TW_camera_origin = [0.0, 0.0, 45.0]\n",
    "# TW_camera_origin = [0.0, 45.0, 0.0]\n",
    "# TW_camera_origin = [0.0, 0.0, 45.0]\n",
    "\n",
    "t = compute_translation_vector(PW_world_origin, PW_camera_origin)\n",
    "print(f'Translation vector: {t}')\n",
    "\n",
    "R = compute_rotation_matrix(TW_camera_origin)\n",
    "print(f'Rotation matrix: {R}')\n",
    "\n",
    "PW_1 = [0, -50, 0]\n",
    "PC_1 = PW_1@R + t\n",
    "print(f'Coordinate of point {PW_1} in WCS to CCS is: {PC_1}')"
   ]
  },
  {
   "cell_type": "markdown",
   "metadata": {},
   "source": [
    "### Translation from one camera to another camera via world coordinate"
   ]
  },
  {
   "cell_type": "code",
   "execution_count": null,
   "metadata": {},
   "outputs": [],
   "source": [
    "import numpy as np\n",
    "\n",
    "PW_world_origin = [0, 0, 0]\n",
    "PW_cam1_origin = [50, 0, 0]     # To the right of world origin\n",
    "PW_cam2_origin = [-50, 0, 0]    # To the leftt of world origin\n",
    "\n",
    "t_w_c1 = compute_translation_vector(PW_world_origin, PW_cam1_origin)\n",
    "print(f'Translation vector from world to camera #1: {t_w_c1}')\n",
    "t_c1_w = -t_w_c1\n",
    "print(f'Translation vector from camera #1 to world: {t_c1_w}')\n",
    "\n",
    "t_w_c2 = compute_translation_vector(PW_world_origin, PW_cam2_origin)\n",
    "print(f'Translation vector from world to camera #2: {t_w_c2}')\n",
    "t_c2_w = t_w_c2\n",
    "print(f'Translation vector from camera #2 to world: {t_c2_w}')\n",
    "\n",
    "R = np.eye(3)                   # Assume world and camera coordinate systems are following the same direction, hence the identity matrix\n",
    "\n",
    "PW_1 = [0, -50, 0]\n",
    "PC1_1 = PW_1@R + t_w_c1         # From world to camera #1\n",
    "print(f'Coordinate of point {PW_1} in WCS to C1CS is: {PC1_1}')\n",
    "PC2_1 = PW_1@R + t_w_c2         # From world to camera #2\n",
    "print(f'Coordinate of point {PW_1} in WCS to C2CS is: {PC2_1}')\n",
    "\n",
    "PC1_2 = [75, 50, 0]\n",
    "PW_2 = PC1_2@R + t_c1_w         # From camera #1 to world\n",
    "print(f'Coordinate of point {PC1_2} in C1CS to WCS is: {PW_2}')\n",
    "PC2_2 = PW_2@R + t_w_c2         # From world to camera #2\n",
    "print(f'Coordinate of point {PW_2} in WCS to C2CS is: {PC2_2}')"
   ]
  },
  {
   "cell_type": "markdown",
   "metadata": {},
   "source": [
    "### Supernova\n",
    "\n",
    "Two displays and one camera"
   ]
  },
  {
   "cell_type": "code",
   "execution_count": null,
   "metadata": {},
   "outputs": [],
   "source": [
    "PW_world_origin = [0, 0, 0] # The origin of the world coordinate system is the center of the line intersecting both left and right displays' centers\n",
    "PW_cam_origin = [-78e-3, -15e-3, -5e-3]\n",
    "PW_ldisp_origin = [-39e-3, 0, 0]\n",
    "PW_rdisp_origin = [39e-3, 0, 0]\n",
    "\n",
    "TW_world_origin = [0.0, 0.0, 0.0]\n",
    "TW_cam_origin = [0.0, -20.0, 0.0]\n",
    "TW_ldisp_origin = [0.0, -10.0, 0.0]\n",
    "TW_rdisp_origin = [0.0, 10.0, 0.0]\n",
    "\n",
    "t_w_cam = compute_translation_vector(PW_world_origin, PW_cam_origin)\n",
    "print(f'Translation vector from world to camera: {t_w_cam}')\n",
    "t_w_ldisp = compute_translation_vector(PW_world_origin, PW_ldisp_origin)\n",
    "print(f'Translation vector from world to left display: {t_w_ldisp}')\n",
    "t_w_rdisp = compute_translation_vector(PW_world_origin, PW_rdisp_origin)\n",
    "print(f'Translation vector from world to right display: {t_w_rdisp}')\n",
    "\n",
    "R_w_cam = compute_rotation_matrix(TW_cam_origin)\n",
    "print(f'Rotation matrix from world to camera: {R_w_cam}')\n",
    "R_w_ldisp = compute_rotation_matrix(TW_ldisp_origin)\n",
    "print(f'Rotation matrix from world to left display: {R_w_ldisp}')\n",
    "R_w_rdisp = compute_rotation_matrix(TW_rdisp_origin)\n",
    "print(f'Rotation matrix from world to right display: {R_w_rdisp}')"
   ]
  },
  {
   "cell_type": "markdown",
   "metadata": {},
   "source": [
    "## The Intrinsic Matrix\n",
    "[Link](https://ksimek.github.io/2013/08/13/intrinsic/)"
   ]
  },
  {
   "cell_type": "code",
   "execution_count": 5,
   "metadata": {},
   "outputs": [],
   "source": [
    "def calculate_focal_length(fov, size):\n",
    "    \"\"\"\n",
    "    Calculate the focal length in pixels based on the field of view and sensor size.\n",
    "\n",
    "    Parameters:\n",
    "    fov (float): Field of view in degrees\n",
    "    size (int): Size of the sensor in pixels (width or height)\n",
    "\n",
    "    Returns:\n",
    "    float: Focal length in pixels\n",
    "    \"\"\"\n",
    "    fov_rad = np.deg2rad(fov)\n",
    "    focal_length = size / (2 * np.tan(fov_rad / 2))\n",
    "    return focal_length"
   ]
  },
  {
   "cell_type": "code",
   "execution_count": 1,
   "metadata": {},
   "outputs": [],
   "source": [
    "cam_parameters = {\n",
    "    'Sensor': {\n",
    "        'Name': 'IMX681',\n",
    "        'Resolution': {\n",
    "            'Hor': 3024,\n",
    "            'Ver': 4032\n",
    "        },\n",
    "        'Dimension': {\n",
    "            'Hor': 3.024e-3,\n",
    "            'Ver': 4.032e-3\n",
    "        },\n",
    "        'Principal Point': {\n",
    "            'Hor': 1512,\n",
    "            'Ver': 2016\n",
    "        }\n",
    "    },\n",
    "    'Optics': {\n",
    "        'FoV': {\n",
    "            'Hor': 70,\n",
    "            'Ver': 92\n",
    "        },\n",
    "        'Focal Length': 100\n",
    "    }\n",
    "}"
   ]
  },
  {
   "cell_type": "code",
   "execution_count": null,
   "metadata": {},
   "outputs": [],
   "source": [
    "def project_point(point, K):\n",
    "    x = K @ point\n",
    "    print(f'Homogenous 2d coordinate: {x}')\n",
    "\n",
    "    x = x[:2] / x[2]\n",
    "    print(f'2d vector coordinate: {x}')\n",
    "\n",
    "    return x"
   ]
  },
  {
   "cell_type": "markdown",
   "metadata": {},
   "source": [
    "### Build camera intrinsic matrix"
   ]
  },
  {
   "cell_type": "code",
   "execution_count": null,
   "metadata": {},
   "outputs": [],
   "source": [
    "import numpy as np\n",
    "\n",
    "res_x_cam = cam_parameters['Sensor']['Resolution']['Hor']\n",
    "res_y_cam = cam_parameters['Sensor']['Resolution']['Ver']\n",
    "fov_h_cam = cam_parameters['Optics']['FoV']['Hor']\n",
    "fov_v_cam = cam_parameters['Optics']['FoV']['Ver']\n",
    "cx_cam = cam_parameters['Sensor']['Principal Point']['Hor']\n",
    "cy_cam = cam_parameters['Sensor']['Principal Point']['Ver']\n",
    "\n",
    "# Calculate focal lengths\n",
    "fx_cam = calculate_focal_length(fov_h_cam, res_x_cam)\n",
    "fy_cam = calculate_focal_length(fov_v_cam, res_y_cam)\n",
    "print(f\"fx_cam: {fx_cam:.0f} pixels\")\n",
    "print(f\"fy_cam: {fy_cam:.0f} pixels\")\n",
    "print(f\"cx_cam: {cx_cam:.0f} pixels\")\n",
    "print(f\"cy_cam: {cy_cam:.0f} pixels\")\n",
    "\n",
    "# Intrinsic parameters for camera and display\n",
    "K_cam = np.array([  [fx_cam, 0, cx_cam],\n",
    "                    [0, fy_cam, cy_cam],\n",
    "                    [0, 0, 1]])"
   ]
  },
  {
   "cell_type": "markdown",
   "metadata": {},
   "source": [
    "### Project camera 3d coordinate to image plane"
   ]
  },
  {
   "cell_type": "code",
   "execution_count": null,
   "metadata": {},
   "outputs": [],
   "source": [
    "import numpy as np\n",
    "\n",
    "res_x_cam = cam_parameters['Sensor']['Resolution']['Hor']\n",
    "res_y_cam = cam_parameters['Sensor']['Resolution']['Ver']\n",
    "fov_h_cam = cam_parameters['Optics']['FoV']['Hor']\n",
    "fov_v_cam = cam_parameters['Optics']['FoV']['Ver']\n",
    "cx_cam = cam_parameters['Sensor']['Principal Point']['Hor']\n",
    "cy_cam = cam_parameters['Sensor']['Principal Point']['Ver']\n",
    "\n",
    "# Calculate focal lengths\n",
    "fx_cam = calculate_focal_length(fov_h_cam, res_x_cam)\n",
    "fy_cam = calculate_focal_length(fov_v_cam, res_y_cam)\n",
    "\n",
    "# Intrinsic parameters for camera and display\n",
    "K_cam = np.array([  [fx_cam, 0, cx_cam],\n",
    "                    [0, fy_cam, cy_cam],\n",
    "                    [0, 0, 1]])\n",
    "\n",
    "# PC_1 = [-140.04, -207.106, 200]\n",
    "# PC_1 = [0.0, 0.0, 200]\n",
    "PC_1 = [140.04, 207.106, 200]\n",
    "PI_1 = project_point(PC_1, K_cam)"
   ]
  },
  {
   "cell_type": "markdown",
   "metadata": {},
   "source": [
    "### Projection from world coordinate system to image plane"
   ]
  },
  {
   "cell_type": "code",
   "execution_count": null,
   "metadata": {},
   "outputs": [],
   "source": [
    "import numpy as np\n",
    "\n",
    "PW_world_origin = [0, 0, 0]     # This is the coordinate of the origin of the world in the world coordinate system\n",
    "PW_camera_origin = [100, 0, 0]  # This is the coordinate of the origin of the camera in the world coordinate system\n",
    "\n",
    "t_w_c = compute_translation_vector(PW_world_origin, PW_camera_origin)\n",
    "print(f'Translation vector WCS to CCS: {t_w_c}')\n",
    "R = np.eye(3)                   # Assume world and camera coordinate systems are following the same direction, hence the identity matrix\n",
    "print(f'Rotation matrix: {R}')\n",
    "\n",
    "# From world coordinate system to camera coordinate system\n",
    "PW_1 = [0, 50, 200]\n",
    "PC_1 = PW_1@R + t_w_c\n",
    "print(f'Coordinate of point {PW_1} in WCS to CCS is: {PC_1}')\n",
    "\n",
    "\n",
    "res_x_cam = cam_parameters['Sensor']['Resolution']['Hor']\n",
    "res_y_cam = cam_parameters['Sensor']['Resolution']['Ver']\n",
    "fov_h_cam = cam_parameters['Optics']['FoV']['Hor']\n",
    "fov_v_cam = cam_parameters['Optics']['FoV']['Ver']\n",
    "cx_cam = cam_parameters['Sensor']['Principal Point']['Hor']\n",
    "cy_cam = cam_parameters['Sensor']['Principal Point']['Ver']\n",
    "\n",
    "# Calculate focal lengths\n",
    "fx_cam = calculate_focal_length(fov_h_cam, res_x_cam)\n",
    "fy_cam = calculate_focal_length(fov_v_cam, res_y_cam)\n",
    "\n",
    "# Intrinsic parameters for camera and display\n",
    "K_cam = np.array([  [fx_cam, 0, cx_cam],\n",
    "                    [0, fy_cam, cy_cam],\n",
    "                    [0, 0, 1]])\n",
    "\n",
    "# From camera coordinate system to image plane\n",
    "#PC_1 = [140.04, 207.106, 200]\n",
    "PI_1 = project_point(PC_1, K_cam)\n",
    "\n"
   ]
  },
  {
   "cell_type": "markdown",
   "metadata": {},
   "source": [
    "### Back-projection from image plane to world coordinate system"
   ]
  },
  {
   "cell_type": "code",
   "execution_count": 2,
   "metadata": {},
   "outputs": [],
   "source": [
    "def compute_inverse_matrix(A):\n",
    "    return np.linalg.inv(A)"
   ]
  },
  {
   "cell_type": "code",
   "execution_count": 3,
   "metadata": {},
   "outputs": [],
   "source": [
    "def compute_ray(K, pixel_point):\n",
    "    # Convert the pixel point to homogeneous coordinates\n",
    "    pixel_point_homogeneous = np.array([pixel_point[0], pixel_point[1], 1.0])\n",
    "    print(f'pixel_point_homogeneous: {pixel_point_homogeneous}')\n",
    "    \n",
    "    # Compute the inverse of the intrinsic matrix\n",
    "    intrinsic_matrix_inv = np.linalg.inv(K)\n",
    "    print(f'intrinsic_matrix_inv: {intrinsic_matrix_inv}')\n",
    "    \n",
    "    # Transform the pixel point to normalized image coordinates\n",
    "    normalized_coords = intrinsic_matrix_inv @ pixel_point_homogeneous\n",
    "    print(f'normalized_coords: {normalized_coords}')\n",
    "    \n",
    "    # The ray direction in camera coordinates is the normalized image coordinates\n",
    "    ray_direction = normalized_coords / np.linalg.norm(normalized_coords)\n",
    "    \n",
    "    return ray_direction"
   ]
  },
  {
   "cell_type": "code",
   "execution_count": null,
   "metadata": {},
   "outputs": [],
   "source": [
    "import numpy as np\n",
    "\n",
    "res_x_cam = cam_parameters['Sensor']['Resolution']['Hor']\n",
    "res_y_cam = cam_parameters['Sensor']['Resolution']['Ver']\n",
    "fov_h_cam = cam_parameters['Optics']['FoV']['Hor']\n",
    "fov_v_cam = cam_parameters['Optics']['FoV']['Ver']\n",
    "cx_cam = cam_parameters['Sensor']['Principal Point']['Hor']\n",
    "cy_cam = cam_parameters['Sensor']['Principal Point']['Ver']\n",
    "\n",
    "# Calculate focal lengths\n",
    "fx_cam = calculate_focal_length(fov_h_cam, res_x_cam)\n",
    "fy_cam = calculate_focal_length(fov_v_cam, res_y_cam)\n",
    "\n",
    "# Intrinsic parameters for camera and display\n",
    "K_cam = np.array([  [fx_cam, 0, cx_cam],\n",
    "                    [0, fy_cam, cy_cam],\n",
    "                    [0, 0, 1]])\n",
    "\n",
    "# Compute the ray direction from the optical center of the camera to a point on the image plane\n",
    "#PI_1 = [3024/4, 4032/4]\n",
    "PI_1 = [3024/2, 4032/2]\n",
    "#PI_1 = [3024, 4032]\n",
    "DC_1 = compute_ray(K_cam, PI_1)\n",
    "print(f'\\r\\nThe direction of the ray from the optical center to the point {PI_1} is {DC_1}')\n",
    "\n",
    "distance_point = 5.0\n",
    "PC_1 = DC_1 * distance_point\n",
    "print(f'The coordinate on the camera coordinate system of the point along the ray {distance_point} meters from the optical center is {PC_1}')\n",
    "\n",
    "\n",
    "\n",
    "PW_world_origin = [0, 0, 0]     # This is the coordinate of the origin of the world in the world coordinate system\n",
    "PW_camera_origin = [100, 0, 0]  # This is the coordinate of the origin of the camera in the world coordinate system\n",
    "\n",
    "t_w_c = compute_translation_vector(PW_world_origin, PW_camera_origin)\n",
    "t_c_w = -t_w_c\n",
    "print(f'\\r\\nTranslation vector WCS to CCS: {t_w_c}')\n",
    "R = np.eye(3)                   # Assume world and camera coordinate systems are following the same direction, hence the identity matrix\n",
    "print(f'Rotation matrix: {R}')\n",
    "PW_1 = PC_1@R + t_c_w\n",
    "print(f'The coordinate on the world coordinate system of the point along the ray {distance_point} meters from the optical center is {PW_1}')"
   ]
  }
 ],
 "metadata": {
  "kernelspec": {
   "display_name": "Python 3",
   "language": "python",
   "name": "python3"
  },
  "language_info": {
   "codemirror_mode": {
    "name": "ipython",
    "version": 3
   },
   "file_extension": ".py",
   "mimetype": "text/x-python",
   "name": "python",
   "nbconvert_exporter": "python",
   "pygments_lexer": "ipython3",
   "version": "3.8.5"
  }
 },
 "nbformat": 4,
 "nbformat_minor": 2
}
